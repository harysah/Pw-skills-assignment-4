{
 "cells": [
  {
   "cell_type": "code",
   "execution_count": 4,
   "id": "3bfe746f-5b65-4e2d-b128-41fbb0aa50db",
   "metadata": {},
   "outputs": [
    {
     "ename": "SyntaxError",
     "evalue": "invalid syntax (4166781328.py, line 1)",
     "output_type": "error",
     "traceback": [
      "\u001b[1;36m  Cell \u001b[1;32mIn[4], line 1\u001b[1;36m\u001b[0m\n\u001b[1;33m    Theoritical questions\u001b[0m\n\u001b[1;37m                ^\u001b[0m\n\u001b[1;31mSyntaxError\u001b[0m\u001b[1;31m:\u001b[0m invalid syntax\n"
     ]
    }
   ],
   "source": [
    "Theoritical questions\n"
   ]
  },
  {
   "cell_type": "markdown",
   "id": "4e823550-b03c-470f-87cf-1053fd0ab00b",
   "metadata": {},
   "source": [
    "1. What is Object-Oriented Programming (OOP)?\n",
    "OOP is a programming approach that models real-world entities as \"objects\" containing both data and behaviors. It emphasizes four main principles: encapsulation, inheritance, polymorphism, and abstraction."
   ]
  },
  {
   "cell_type": "markdown",
   "id": "194763cd-9361-46d4-bf19-678443ddfd89",
   "metadata": {},
   "source": [
    "2.What is a Class in OOP?\n",
    "A class is a blueprint for creating objects. It defines a set of attributes and methods that the created objects (instances) will have. In Python, classes are defined using the class keyword. "
   ]
  },
  {
   "cell_type": "markdown",
   "id": "17604840-2dac-4d7d-bf3d-6036469a41f5",
   "metadata": {},
   "source": [
    "3. What is an Object in OOP?\n",
    "An object is an instance of a class. It encapsulates data and functions that operate on that data. Each object can have unique attribute values, even if they share the same class. "
   ]
  },
  {
   "cell_type": "markdown",
   "id": "12b8604d-8ac2-485e-a6c8-19ef1783d506",
   "metadata": {},
   "source": [
    "4. What is the Difference Between Abstraction and Encapsulation?\n",
    "Abstraction: Hides complex implementation details and shows only the essential features of an object. It focuses on what an object does rather than how it does it.\n",
    "\n",
    "Encapsulation: Restricts direct access to some of an object's components, which is a means of preventing unintended interference and misuse of the data."
   ]
  },
  {
   "cell_type": "markdown",
   "id": "90255eb0-36be-4e35-a827-20398f5040b4",
   "metadata": {},
   "source": [
    "5. What are Dunder Methods in Python?\n",
    "Dunder methods, or magic methods, are special methods in Python that start and end with double underscores (e.g., __init__, __str__, __repr__). They enable the customization of built-in behaviors for user-defined classes."
   ]
  },
  {
   "cell_type": "raw",
   "id": "9e38b6d5-870b-46e9-be9a-1077304adf02",
   "metadata": {},
   "source": [
    "6. Explain the Concept of Inheritance in OOP\n",
    "Inheritance allows a class (child class) to inherit attributes and methods from another class (parent class). This promotes code reusability and establishes a hierarchical relationship between classes. \n"
   ]
  },
  {
   "cell_type": "markdown",
   "id": "86ee42d3-482b-40db-b751-74ba0965efc2",
   "metadata": {},
   "source": [
    "7. What is Polymorphism in OOP?\n",
    "Polymorphism allows objects of different classes to be treated as objects of a common superclass. It enables a single interface to represent different underlying data types.\n",
    "\n"
   ]
  },
  {
   "cell_type": "markdown",
   "id": "a55447c3-9f18-4141-9b48-a27d2df7bd78",
   "metadata": {},
   "source": [
    "8.How is Encapsulation Achieved in Python?\n",
    "In Python, encapsulation is achieved by defining class attributes as private (using a single or double underscore prefix) and providing public methods to access and modify them. This restricts direct access to the data and ensures controlled interaction.\n",
    "\n"
   ]
  },
  {
   "cell_type": "raw",
   "id": "880c2c9e-e771-498e-8ee4-e55aecd2ea22",
   "metadata": {},
   "source": [
    "9.What is a Constructor in Python?\n",
    "A constructor is a special method (__init__) in Python that is automatically called when a new object of a class is instantiated. It initializes the object's attributes with the provided values."
   ]
  },
  {
   "cell_type": "code",
   "execution_count": null,
   "id": "9a0d4103-4df3-453c-8fe4-1baed3379a5a",
   "metadata": {},
   "outputs": [],
   "source": [
    "10. What are Class and Static Methods in Python?\n",
    "Class Methods: Defined using the @classmethod decorator, these methods take the class (cls) as the first argument and can modify class state that applies across all instances.\n",
    "\n",
    "Static Methods: Defined using the @staticmethod decorator, these methods do not take self or cls as the first argument and cannot modify object or class state. They behave like regular functions but belong to the class's namespace. \n"
   ]
  },
  {
   "cell_type": "markdown",
   "id": "b9fa0a09-7eb4-4f0d-b17a-2dd83d5a9bf6",
   "metadata": {},
   "source": [
    "11. What is Method Overloading in Python?\n",
    "Python does not support traditional method overloading (multiple methods with the same name but different parameters). However, similar behavior can be achieved using default arguments or variable-length arguments (*args, **kwargs)."
   ]
  },
  {
   "cell_type": "markdown",
   "id": "54ae98f7-ed68-4955-8ba1-2de64b07809e",
   "metadata": {},
   "source": [
    "12.What is Method Overriding in OOP?\n",
    "Method overriding occurs when a subclass provides a specific implementation of a method that is already defined in its superclass. This allows the subclass to modify or extend the behavior of that method."
   ]
  },
  {
   "cell_type": "code",
   "execution_count": null,
   "id": "6cb3f03a-434e-4fe7-b2f6-d2e14ec81e4a",
   "metadata": {},
   "outputs": [],
   "source": [
    "13.What is a Property Decorator in Python?\n",
    "The @property decorator in Python allows you to define methods in a class that can be accessed like attributes. It is commonly used to implement getters and setters, providing controlled access to private attributes.\n",
    "\n"
   ]
  },
  {
   "cell_type": "code",
   "execution_count": null,
   "id": "2c5140d8-5be7-46b7-97a0-67f390423d71",
   "metadata": {},
   "outputs": [],
   "source": [
    "14.Why is Polymorphism Important in OOP?\n",
    "Polymorphism enhances flexibility and maintainability in code by allowing objects of different classes to be treated uniformly based on a common interface. This simplifies code and promotes the use of interchangeable components. \n"
   ]
  },
  {
   "cell_type": "markdown",
   "id": "39b161a0-35a5-4f7e-a64c-0844237836f6",
   "metadata": {},
   "source": [
    "15. What is an Abstract Class in Python?\n",
    "An abstract class in Python is a class that cannot be instantiated and is designed to be a base class for other classes. It can contain abstract methods (declared using the @abstractmethod decorator) that must be implemented by subclasses. Abstract classes are defined using the ABC module. "
   ]
  },
  {
   "cell_type": "code",
   "execution_count": null,
   "id": "7d2a663a-350d-4f01-84ae-c224d2b0821c",
   "metadata": {},
   "outputs": [],
   "source": [
    "16. What are the Advantages of OOP?\n",
    "Modularity: Code is organized into discrete objects.\n",
    "\n",
    "Reusability: Classes can be reused across programs.\n",
    "\n",
    "Scalability: Easier to manage and scale large applications.\n",
    "\n",
    "Maintainability: Simplifies debugging and updating code.\n",
    "\n",
    "Encapsulation: Protects data from unintended interference.\n",
    "\n"
   ]
  },
  {
   "cell_type": "code",
   "execution_count": null,
   "id": "4061aae4-b4cc-48e7-b8aa-aa9f19705990",
   "metadata": {},
   "outputs": [],
   "source": [
    "17. What is the Difference Between a Class Variable and an Instance Variable?\n",
    "Class Variable: Shared across all instances of the class. Defined within the class but outside any instance methods.\n",
    "\n",
    "Instance Variable: Unique to each instance of the class. Defined within methods and prefixed with self."
   ]
  },
  {
   "cell_type": "markdown",
   "id": "3b556c14-157c-49cd-a2e0-67a5fec8936a",
   "metadata": {},
   "source": [
    "18. What is Multiple Inheritance in Python?\n",
    "Multiple inheritance allows a class to inherit attributes and methods from more than one parent class. Python supports multiple inheritance, enabling the creation of complex class hierarchies. "
   ]
  },
  {
   "cell_type": "code",
   "execution_count": null,
   "id": "e477bc65-5566-49b3-8448-12210fe2230a",
   "metadata": {},
   "outputs": [],
   "source": [
    "19.Explain the Purpose of __str__ and __repr__ Methods in Python\n",
    "__str__: Defines the “informal” or nicely printable string representation of an object, used by the print() function.\n",
    "\n",
    "__repr__: Defines the “official” string representation of an object, used by the repr() function and in the interactive interpreter. It should ideally be unambiguous and, if possible, match the code necessary to recreate the object."
   ]
  },
  {
   "cell_type": "code",
   "execution_count": null,
   "id": "997f3024-847b-49d5-8c15-a29266ffd9e9",
   "metadata": {},
   "outputs": [],
   "source": [
    "20.What is the significance of the super() function in Python?\n",
    "The super() function is used to give access to methods in a superclass from the subclass that inherits from it. It's especially useful in multiple inheritance and constructor overriding."
   ]
  },
  {
   "cell_type": "code",
   "execution_count": null,
   "id": "76bcee15-1f0a-40dc-b6ed-4addacdb840f",
   "metadata": {},
   "outputs": [],
   "source": [
    "21.What is the significance of the __del__ method in Python?\n",
    "The __del__ method is called a destructor and is executed when an object is about to be destroyed (usually when its reference count drops to zero).\n",
    "\n",
    "Note: Relying on __del__ is discouraged in most cases due to unpredictable garbage collection timing."
   ]
  },
  {
   "cell_type": "code",
   "execution_count": null,
   "id": "344633e0-6d90-4c0f-a455-fb00764aedf6",
   "metadata": {},
   "outputs": [],
   "source": [
    "22. What is the difference between @staticmethod and @classmethod in Python?\n",
    "Decorator\t        Description\n",
    "@staticmethod\tMethod doesn’t take self or cls; behaves like a regular function but is bound to the class namespace.\n",
    "@classmethod\tMethod takes cls as the first argument and can access/modify class state."
   ]
  },
  {
   "cell_type": "markdown",
   "id": "4516a200-9ad9-4878-bcf8-cdbf0e8d856c",
   "metadata": {},
   "source": [
    "23. How does polymorphism work in Python with inheritance?\n",
    "Polymorphism allows different classes to implement methods with the same name, and Python can use them interchangeably."
   ]
  },
  {
   "cell_type": "code",
   "execution_count": null,
   "id": "2a8b8345-cd97-4d6b-a18d-9d22f3d429d6",
   "metadata": {},
   "outputs": [],
   "source": [
    "24.What is method chaining in Python OOP?\n",
    "Method chaining allows calling multiple methods on the same object in a single line by returning self from each method."
   ]
  },
  {
   "cell_type": "code",
   "execution_count": null,
   "id": "4c2f0da0-040b-45fe-baf4-9680a79fdc10",
   "metadata": {},
   "outputs": [],
   "source": [
    "25.What is the purpose of the __call__ method in Python?\n",
    "The __call__ method allows an instance of a class to be called like a function."
   ]
  },
  {
   "cell_type": "code",
   "execution_count": null,
   "id": "e9e99475-5569-4057-b0ed-2b91f2b43a44",
   "metadata": {},
   "outputs": [],
   "source": [
    "practical questions"
   ]
  },
  {
   "cell_type": "code",
   "execution_count": null,
   "id": "5c1a2f07-702d-46f4-97d7-dba9e50294fc",
   "metadata": {},
   "outputs": [],
   "source": [
    "1. Create a parent class Animal with a method speak() that prints a generic message. Create a child class Dog\n",
    "that overrides the speak() method to print \"Bark!\"."
   ]
  },
  {
   "cell_type": "code",
   "execution_count": 16,
   "id": "a872b0cc-7500-4ecd-9b77-8395f6cbfe93",
   "metadata": {},
   "outputs": [
    {
     "name": "stdout",
     "output_type": "stream",
     "text": [
      "Animal makes a sound\n",
      "Bark!\n"
     ]
    }
   ],
   "source": [
    "class Animal:\n",
    "    def speak(self):\n",
    "        print(\"Animal makes a sound\")\n",
    "\n",
    "class Dog(Animal):\n",
    "    def speak(self):\n",
    "        print(\"Bark!\")\n",
    "\n",
    "# Test\n",
    "a = Animal()\n",
    "a.speak()  \n",
    "\n",
    "d = Dog()\n",
    "d.speak()  "
   ]
  },
  {
   "cell_type": "code",
   "execution_count": null,
   "id": "4d637cfc-be57-425b-9d51-820c4a9bd01b",
   "metadata": {},
   "outputs": [],
   "source": [
    "2. Write a program to create an abstract class Shape with a method area(). Derive classes Circle and Rectangle\n",
    "from it and implement the area() method in both.\n",
    "\n"
   ]
  },
  {
   "cell_type": "code",
   "execution_count": 5,
   "id": "448e1d12-f880-4b9e-9349-f24c46d3543c",
   "metadata": {},
   "outputs": [
    {
     "name": "stdout",
     "output_type": "stream",
     "text": [
      "78.53981633974483\n",
      "24\n"
     ]
    }
   ],
   "source": [
    "from abc import ABC, abstractmethod\n",
    "import math\n",
    "\n",
    "class Shape(ABC):\n",
    "    @abstractmethod\n",
    "    def area(self):\n",
    "        pass\n",
    "\n",
    "class Circle(Shape):\n",
    "    def __init__(self, radius):\n",
    "        self.radius = radius\n",
    "\n",
    "    def area(self):\n",
    "        return math.pi * self.radius ** 2\n",
    "\n",
    "class Rectangle(Shape):\n",
    "    def __init__(self, width, height):\n",
    "        self.width = width\n",
    "        self.height = height\n",
    "\n",
    "    def area(self):\n",
    "        return self.width * self.height\n",
    "\n",
    "# Test\n",
    "c = Circle(5)\n",
    "print(c.area())  \n",
    "\n",
    "r = Rectangle(4, 6)\n",
    "print(r.area())  \n"
   ]
  },
  {
   "cell_type": "code",
   "execution_count": null,
   "id": "ca692d00-3547-4e8f-9624-b91806a5a969",
   "metadata": {},
   "outputs": [],
   "source": [
    "3. Implement a multi-level inheritance scenario where a class Vehicle has an attribute type. Derive a class Car\n",
    "and further derive a class ElectricCar that adds a battery attribute."
   ]
  },
  {
   "cell_type": "code",
   "execution_count": 6,
   "id": "396a971a-84d8-4ade-89d9-ff0c19fead68",
   "metadata": {},
   "outputs": [
    {
     "name": "stdout",
     "output_type": "stream",
     "text": [
      "Car\n",
      "Tesla\n",
      "100 kWh\n"
     ]
    }
   ],
   "source": [
    "class Vehicle:\n",
    "    def __init__(self, v_type):\n",
    "        self.type = v_type\n",
    "\n",
    "class Car(Vehicle):\n",
    "    def __init__(self, brand, v_type='Car'):\n",
    "        super().__init__(v_type)\n",
    "        self.brand = brand\n",
    "\n",
    "class ElectricCar(Car):\n",
    "    def __init__(self, brand, battery_capacity):\n",
    "        super().__init__(brand)\n",
    "        self.battery = battery_capacity\n",
    "\n",
    "# Test\n",
    "e_car = ElectricCar(\"Tesla\", \"100 kWh\")\n",
    "print(e_car.type)       \n",
    "print(e_car.brand)      \n",
    "print(e_car.battery)    "
   ]
  },
  {
   "cell_type": "code",
   "execution_count": null,
   "id": "c8e338e9-e6af-4898-b11c-18ad6dd4d689",
   "metadata": {},
   "outputs": [],
   "source": [
    "4. Demonstrate polymorphism by creating a base class Bird with a method fly(). Create two derived classes\n",
    "Sparrow and Penguin that override the fly() method."
   ]
  },
  {
   "cell_type": "code",
   "execution_count": 7,
   "id": "ad5dc25b-fa75-4a84-ac70-d57875d76f27",
   "metadata": {},
   "outputs": [
    {
     "name": "stdout",
     "output_type": "stream",
     "text": [
      "Sparrow flies high\n",
      "Penguin can't fly\n"
     ]
    }
   ],
   "source": [
    "class Bird:\n",
    "    def fly(self):\n",
    "        print(\"Bird is flying\")\n",
    "\n",
    "class Sparrow(Bird):\n",
    "    def fly(self):\n",
    "        print(\"Sparrow flies high\")\n",
    "\n",
    "class Penguin(Bird):\n",
    "    def fly(self):\n",
    "        print(\"Penguin can't fly\")\n",
    "\n",
    "# Test\n",
    "birds = [Sparrow(), Penguin()]\n",
    "for bird in birds:\n",
    "    bird.fly()"
   ]
  },
  {
   "cell_type": "code",
   "execution_count": null,
   "id": "c903c368-ca22-4f68-9a0e-80bb7ef7ef87",
   "metadata": {},
   "outputs": [],
   "source": [
    "5. Write a program to demonstrate encapsulation by creating a class BankAccount with private attributes\n",
    "balance and methods to deposit, withdraw, and check balance."
   ]
  },
  {
   "cell_type": "code",
   "execution_count": 30,
   "id": "1b6f8468-5a6a-49da-a764-2edf17914f8d",
   "metadata": {},
   "outputs": [
    {
     "name": "stdout",
     "output_type": "stream",
     "text": [
      "current balance: 130\n"
     ]
    }
   ],
   "source": [
    "class BankAccount:\n",
    "    def __init__(self, balance=80):\n",
    "        self.balance = balance\n",
    "\n",
    "    def deposit(self, amount):\n",
    "        if amount > 0:\n",
    "            self.balance += amount\n",
    "\n",
    "    def withdraw(self, amount):\n",
    "        if amount <= self.balance:\n",
    "            self.balance -= amount\n",
    "        else:\n",
    "            print(\"Insufficient balance or invalid amount.\")\n",
    "\n",
    "    def check_balance(self):\n",
    "        return self.balance\n",
    "\n",
    "account = BankAccount()\n",
    "account.deposit(100)\n",
    "account.withdraw(50)\n",
    "print(\"current balance:\",account.check_balance())"
   ]
  },
  {
   "cell_type": "code",
   "execution_count": 24,
   "id": "4845ce00-0241-4049-b835-59b31f6ecb20",
   "metadata": {},
   "outputs": [
    {
     "ename": "SyntaxError",
     "evalue": "invalid decimal literal (1748700587.py, line 1)",
     "output_type": "error",
     "traceback": [
      "\u001b[1;36m  Cell \u001b[1;32mIn[24], line 1\u001b[1;36m\u001b[0m\n\u001b[1;33m    6.Demonstrate runtime polymorphism using a method play() in a base class Instrument. Derive classes Guitar\u001b[0m\n\u001b[1;37m     ^\u001b[0m\n\u001b[1;31mSyntaxError\u001b[0m\u001b[1;31m:\u001b[0m invalid decimal literal\n"
     ]
    }
   ],
   "source": [
    "6.Demonstrate runtime polymorphism using a method play() in a base class Instrument. Derive classes Guitar\n",
    "and Piano that implement their own version of play().\n",
    "\n"
   ]
  },
  {
   "cell_type": "code",
   "execution_count": 10,
   "id": "39936d97-d49e-44d3-a25b-5ac4dee3e531",
   "metadata": {},
   "outputs": [
    {
     "name": "stdout",
     "output_type": "stream",
     "text": [
      "Strumming the guitar.\n",
      "Playing the piano.\n"
     ]
    }
   ],
   "source": [
    "class Instrument:\n",
    "    def play(self):\n",
    "        print(\"Playing an instrument.\")\n",
    "\n",
    "class Guitar(Instrument):\n",
    "    def play(self):\n",
    "        print(\"Strumming the guitar.\")\n",
    "\n",
    "class Piano(Instrument):\n",
    "    def play(self):\n",
    "        print(\"Playing the piano.\")\n",
    "\n",
    "# Example\n",
    "instruments = [Guitar(), Piano()]\n",
    "for instrument in instruments:\n",
    "    instrument.play()"
   ]
  },
  {
   "cell_type": "code",
   "execution_count": null,
   "id": "97beaa52-ae5c-4ec5-9c49-7ebac58273c3",
   "metadata": {},
   "outputs": [],
   "source": [
    "7.Create a class MathOperations with a class method add_numbers() to add two numbers and a static\n",
    "method subtract_numbers() to subtract two numbers.\n",
    "\n"
   ]
  },
  {
   "cell_type": "code",
   "execution_count": 21,
   "id": "2b8df973-0e37-4f2f-a5a7-78cd9a1eeacd",
   "metadata": {},
   "outputs": [
    {
     "name": "stdout",
     "output_type": "stream",
     "text": [
      "addition: 5\n",
      "substraction: 1\n"
     ]
    }
   ],
   "source": [
    "class MathOperations:\n",
    "    @classmethod\n",
    "    def add_numbers(cls, a, b):\n",
    "        return a + b\n",
    "\n",
    "    @staticmethod\n",
    "    def subtract_numbers(a, b):\n",
    "        return a - b\n",
    "result1 = MathOperations.add_numbers(2,3)\n",
    "print(\"addition:\",result1)\n",
    "\n",
    "result2 = MathOperations.subtract_numbers(5,4)\n",
    "print(\"substraction:\",result2)"
   ]
  },
  {
   "cell_type": "code",
   "execution_count": null,
   "id": "361cb7b4-a128-496f-84dc-f3317de2502b",
   "metadata": {},
   "outputs": [],
   "source": [
    "8. Implement a class Person with a class method to count the total number of persons created."
   ]
  },
  {
   "cell_type": "code",
   "execution_count": 31,
   "id": "27650c85-68cf-4347-a78f-3101b35de8e6",
   "metadata": {},
   "outputs": [
    {
     "name": "stdout",
     "output_type": "stream",
     "text": [
      "Total persons created: 3\n"
     ]
    }
   ],
   "source": [
    "class Person:\n",
    "    count = 0  # Class variable to store number of persons\n",
    "\n",
    "    def __init__(self, name):\n",
    "        self.name = name\n",
    "        Person.count += 1  # Increment count each time a person is created\n",
    "\n",
    "    @classmethod\n",
    "    def total_persons(cls):\n",
    "        return cls.count \n",
    "p1 = Person(\"Alice\")\n",
    "p2 = Person(\"Bob\")\n",
    "p3 = Person(\"Charlie\")\n",
    "\n",
    "print(\"Total persons created:\", Person.total_persons()) "
   ]
  },
  {
   "cell_type": "code",
   "execution_count": null,
   "id": "1bacf25a-c05b-43ea-994f-606ea1528132",
   "metadata": {},
   "outputs": [],
   "source": [
    "9. Write a class Fraction with attributes numerator and denominator. Override the str method to display the\n",
    "fraction as \"numerator/denominator\".\n",
    "\n"
   ]
  },
  {
   "cell_type": "code",
   "execution_count": 32,
   "id": "8c1d7e9d-f5af-40ca-9dd2-27c699b86d61",
   "metadata": {},
   "outputs": [
    {
     "name": "stdout",
     "output_type": "stream",
     "text": [
      "3/4\n"
     ]
    }
   ],
   "source": [
    "class Fraction:\n",
    "    def __init__(self, numerator, denominator):\n",
    "        self.numerator = numerator\n",
    "        self.denominator = denominator\n",
    "\n",
    "    def __str__(self):\n",
    "        return f\"{self.numerator}/{self.denominator}\"\n",
    "f1 = Fraction(3, 4)\n",
    "print(f1)          "
   ]
  },
  {
   "cell_type": "code",
   "execution_count": null,
   "id": "c3f648e4-06fe-4f42-828d-88ba6f712d63",
   "metadata": {},
   "outputs": [],
   "source": [
    "10. Demonstrate operator overloading by creating a class Vector and overriding the add method to add two\n",
    "vectors."
   ]
  },
  {
   "cell_type": "code",
   "execution_count": 33,
   "id": "0b3cfcd5-464a-4601-9fc8-ed007a3e208b",
   "metadata": {},
   "outputs": [
    {
     "name": "stdout",
     "output_type": "stream",
     "text": [
      "Vector(6, 8)\n"
     ]
    }
   ],
   "source": [
    "class Vector:\n",
    "    def __init__(self, x, y):\n",
    "        self.x = x\n",
    "        self.y = y\n",
    "\n",
    "    def __add__(self, other):\n",
    "        # Add corresponding components of the two vectors\n",
    "        return Vector(self.x + other.x, self.y + other.y)\n",
    "\n",
    "    def __str__(self):\n",
    "        return f\"Vector({self.x}, {self.y})\"\n",
    "v1 = Vector(2, 3)\n",
    "v2 = Vector(4, 5)\n",
    "v3 = v1 + v2  # Calls v1.__add__(v2)\n",
    "\n",
    "print(v3)         "
   ]
  },
  {
   "cell_type": "code",
   "execution_count": null,
   "id": "11fbb7e9-5c7e-44b3-9c8a-25bfe87137a9",
   "metadata": {},
   "outputs": [],
   "source": [
    "11.Create a class Person with attributes name and age. Add a method greet() that prints \"Hello, my name is\n",
    "{name} and I am {age} years old.\""
   ]
  },
  {
   "cell_type": "code",
   "execution_count": 34,
   "id": "cdd56249-c8ce-4581-9818-c76bcb5bba5b",
   "metadata": {},
   "outputs": [
    {
     "name": "stdout",
     "output_type": "stream",
     "text": [
      "Hello, my name is Alice and I am 30 years old.\n"
     ]
    }
   ],
   "source": [
    "class Person:\n",
    "    def __init__(self, name, age):\n",
    "        self.name = name\n",
    "        self.age = age\n",
    "\n",
    "    def greet(self):\n",
    "        print(f\"Hello, my name is {self.name} and I am {self.age} years old.\")\n",
    "p1 = Person(\"Alice\", 30)\n",
    "p1.greet()         "
   ]
  },
  {
   "cell_type": "code",
   "execution_count": null,
   "id": "12d932ed-b054-4a43-a766-53f5bc3da9fd",
   "metadata": {},
   "outputs": [],
   "source": [
    "12. Implement a class Student with attributes name and grades. Create a method average_grade() to compute\n",
    "the average of the grades.\n",
    "\n"
   ]
  },
  {
   "cell_type": "code",
   "execution_count": 35,
   "id": "d5f105ac-b026-4778-82fb-19d07419e6d9",
   "metadata": {},
   "outputs": [
    {
     "name": "stdout",
     "output_type": "stream",
     "text": [
      "John's average grade is: 84.33\n"
     ]
    }
   ],
   "source": [
    "class Student:\n",
    "    def __init__(self, name, grades):\n",
    "        self.name = name\n",
    "        self.grades = grades  # Expecting a list of numbers\n",
    "\n",
    "    def average_grade(self):\n",
    "        if self.grades:\n",
    "            return sum(self.grades) / len(self.grades)\n",
    "        else:\n",
    "            return 0  # Avoid division by zero\n",
    "s1 = Student(\"John\", [85, 90, 78])\n",
    "print(f\"{s1.name}'s average grade is: {s1.average_grade():.2f}\")"
   ]
  },
  {
   "cell_type": "code",
   "execution_count": null,
   "id": "c4c8e183-cd1d-4434-af01-720b1f5598f3",
   "metadata": {},
   "outputs": [],
   "source": [
    "13. Create a class Rectangle with methods set_dimensions() to set the dimensions and area() to calculate the\n",
    "area"
   ]
  },
  {
   "cell_type": "code",
   "execution_count": 36,
   "id": "acb0e0f4-f9ba-4751-b960-da053962c633",
   "metadata": {},
   "outputs": [
    {
     "name": "stdout",
     "output_type": "stream",
     "text": [
      "Area of rectangle: 15\n"
     ]
    }
   ],
   "source": [
    "class Rectangle:\n",
    "    def __init__(self):\n",
    "        self.length = 0\n",
    "        self.width = 0\n",
    "\n",
    "    def set_dimensions(self, length, width):\n",
    "        self.length = length\n",
    "        self.width = width\n",
    "\n",
    "    def area(self):\n",
    "        return self.length * self.width\n",
    "\n",
    "# Example usage\n",
    "rect = Rectangle()\n",
    "rect.set_dimensions(5, 3)\n",
    "print(\"Area of rectangle:\", rect.area())\n",
    "\n",
    "\n",
    "\n",
    "\n",
    "\n",
    "\n",
    "\n",
    "\n",
    "\n",
    "\n"
   ]
  },
  {
   "cell_type": "code",
   "execution_count": null,
   "id": "e3db4fbc-f1f5-48d8-9f9b-7f87723dd9e7",
   "metadata": {},
   "outputs": [],
   "source": [
    "14. Create a class Employee with a method calculate_salary() that computes the salary based on hours worked\n",
    "and hourly rate. Create a derived class Manager that adds a bonus to the salary."
   ]
  },
  {
   "cell_type": "code",
   "execution_count": 37,
   "id": "cdd23aa4-f634-4704-a010-9e7ef1a250a5",
   "metadata": {},
   "outputs": [
    {
     "name": "stdout",
     "output_type": "stream",
     "text": [
      "Employee Salary: 800\n",
      "Manager Salary with Bonus: 1700\n"
     ]
    }
   ],
   "source": [
    "class Employee:\n",
    "    def __init__(self, hours_worked, hourly_rate):\n",
    "        self.hours_worked = hours_worked\n",
    "        self.hourly_rate = hourly_rate\n",
    "\n",
    "    def calculate_salary(self):\n",
    "        return self.hours_worked * self.hourly_rate\n",
    "\n",
    "\n",
    "class Manager(Employee):\n",
    "    def __init__(self, hours_worked, hourly_rate, bonus):\n",
    "        super().__init__(hours_worked, hourly_rate)\n",
    "        self.bonus = bonus\n",
    "\n",
    "    def calculate_salary(self):\n",
    "        base_salary = super().calculate_salary()\n",
    "        return base_salary + self.bonus\n",
    "\n",
    "\n",
    "# Example usage\n",
    "emp = Employee(40, 20)\n",
    "print(\"Employee Salary:\", emp.calculate_salary())\n",
    "\n",
    "mgr = Manager(40, 30, 500)\n",
    "print(\"Manager Salary with Bonus:\", mgr.calculate_salary())"
   ]
  },
  {
   "cell_type": "code",
   "execution_count": null,
   "id": "42f700ce-c325-4c51-b055-42d3523c99f2",
   "metadata": {},
   "outputs": [],
   "source": [
    "15. Create a class Product with attributes name, price, and quantity. Implement a method total_price() that\n",
    "calculates the total price of the product."
   ]
  },
  {
   "cell_type": "code",
   "execution_count": 38,
   "id": "9767792e-5765-49f3-bb67-32b1e3e76c68",
   "metadata": {},
   "outputs": [
    {
     "name": "stdout",
     "output_type": "stream",
     "text": [
      "Total price for 3 Laptop(s): $2250.00\n"
     ]
    }
   ],
   "source": [
    "class Product:\n",
    "    def __init__(self, name, price, quantity):\n",
    "        self.name = name\n",
    "        self.price = price\n",
    "        self.quantity = quantity\n",
    "\n",
    "    def total_price(self):\n",
    "        return self.price * self.quantity\n",
    "\n",
    "\n",
    "# Example usage\n",
    "product = Product(\"Laptop\", 750.00, 3)\n",
    "print(f\"Total price for {product.quantity} {product.name}(s): ${product.total_price():.2f}\")"
   ]
  },
  {
   "cell_type": "code",
   "execution_count": null,
   "id": "8dd830b3-f729-4168-bec9-a4ba93d58222",
   "metadata": {},
   "outputs": [],
   "source": [
    "16. Create a class Animal with an abstract method sound(). Create two derived classes Cow and Sheep that\n",
    "implement the sound() method."
   ]
  },
  {
   "cell_type": "code",
   "execution_count": 39,
   "id": "204cd937-26e6-4178-9b7f-8a14a39f4c7c",
   "metadata": {},
   "outputs": [
    {
     "name": "stdout",
     "output_type": "stream",
     "text": [
      "Cow sound: Moo\n",
      "Sheep sound: Baa\n"
     ]
    }
   ],
   "source": [
    "from abc import ABC, abstractmethod\n",
    "\n",
    "class Animal(ABC):\n",
    "    @abstractmethod\n",
    "    def sound(self):\n",
    "        pass\n",
    "\n",
    "class Cow(Animal):\n",
    "    def sound(self):\n",
    "        return \"Moo\"\n",
    "\n",
    "class Sheep(Animal):\n",
    "    def sound(self):\n",
    "        return \"Baa\"\n",
    "\n",
    "# Example usage\n",
    "cow = Cow()\n",
    "sheep = Sheep()\n",
    "\n",
    "print(\"Cow sound:\", cow.sound())\n",
    "print(\"Sheep sound:\", sheep.sound())"
   ]
  },
  {
   "cell_type": "code",
   "execution_count": null,
   "id": "66bbaa3a-4d38-408c-90b4-dd627a1dde20",
   "metadata": {},
   "outputs": [],
   "source": [
    "17. Create a class Book with attributes title, author, and year_published. Add a method get_book_info() that\n",
    "returns a formatted string with the book's details.\n",
    "\n",
    "\n"
   ]
  },
  {
   "cell_type": "code",
   "execution_count": 40,
   "id": "31122f0b-46e6-420f-a69f-11436373f425",
   "metadata": {},
   "outputs": [
    {
     "name": "stdout",
     "output_type": "stream",
     "text": [
      "'To Kill a Mockingbird' by Harper Lee (Published in 1960)\n"
     ]
    }
   ],
   "source": [
    "class Book:\n",
    "    def __init__(self, title, author, year_published):\n",
    "        self.title = title\n",
    "        self.author = author\n",
    "        self.year_published = year_published\n",
    "\n",
    "    def get_book_info(self):\n",
    "        return f\"'{self.title}' by {self.author} (Published in {self.year_published})\"\n",
    "\n",
    "# Example usage\n",
    "book = Book(\"To Kill a Mockingbird\", \"Harper Lee\", 1960)\n",
    "print(book.get_book_info())"
   ]
  },
  {
   "cell_type": "code",
   "execution_count": null,
   "id": "2fc1e9b2-59d0-4964-9e71-520574231e50",
   "metadata": {},
   "outputs": [],
   "source": [
    "18. Create a class House with attributes address and price. Create a derived class Mansion that adds an\n",
    "attribute number_of_rooms."
   ]
  },
  {
   "cell_type": "code",
   "execution_count": 41,
   "id": "c2bd6717-7e05-49f9-88fa-d037dbbac1a7",
   "metadata": {},
   "outputs": [
    {
     "name": "stdout",
     "output_type": "stream",
     "text": [
      "Address: 123 Elm Street, Price: $250000\n",
      "Address: 1 Royal Crescent, Price: $2000000, Rooms: 15\n"
     ]
    }
   ],
   "source": [
    "\n",
    "class House:\n",
    "    def __init__(self, address, price):\n",
    "        self.address = address\n",
    "        self.price = price\n",
    "\n",
    "    def get_details(self):\n",
    "        return f\"Address: {self.address}, Price: ${self.price}\"\n",
    "\n",
    "class Mansion(House):\n",
    "    def __init__(self, address, price, number_of_rooms):\n",
    "        super().__init__(address, price)\n",
    "        self.number_of_rooms = number_of_rooms\n",
    "\n",
    "    def get_details(self):\n",
    "        return f\"{super().get_details()}, Rooms: {self.number_of_rooms}\"\n",
    "\n",
    "# Example usage\n",
    "house = House(\"123 Elm Street\", 250000)\n",
    "print(house.get_details())\n",
    "\n",
    "mansion = Mansion(\"1 Royal Crescent\", 2000000, 15)\n",
    "print(mansion.get_details())"
   ]
  },
  {
   "cell_type": "markdown",
   "id": "34dc360e-741e-4891-b318-d781e603576b",
   "metadata": {},
   "source": []
  }
 ],
 "metadata": {
  "kernelspec": {
   "display_name": "Python 3 (ipykernel)",
   "language": "python",
   "name": "python3"
  },
  "language_info": {
   "codemirror_mode": {
    "name": "ipython",
    "version": 3
   },
   "file_extension": ".py",
   "mimetype": "text/x-python",
   "name": "python",
   "nbconvert_exporter": "python",
   "pygments_lexer": "ipython3",
   "version": "3.12.7"
  }
 },
 "nbformat": 4,
 "nbformat_minor": 5
}
